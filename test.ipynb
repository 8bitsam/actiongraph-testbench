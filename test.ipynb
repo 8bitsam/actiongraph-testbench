{
 "cells": [
  {
   "cell_type": "code",
   "execution_count": null,
   "metadata": {},
   "outputs": [],
   "source": [
    "from actiongraph import ActionGraph\n",
    "import json\n",
    "import matplotlib.pyplot as plt\n",
    "import networkx as nx"
   ]
  },
  {
   "cell_type": "code",
   "execution_count": null,
   "metadata": {},
   "outputs": [],
   "source": [
    "# 0.98 BaCO3 + 0.01 La2O3 + SnO2 -> Ba0.98La0.02SnO3 + 0.98 CO2 + 0.005 O2\n",
    "inputs = ['0.98BaCO3', '0.01La2O3', 'SnO2']\n",
    "graph = ActionGraph(input_chemicals=inputs)\n",
    "step1 = graph.add_step(\"milled for 24 h, with ethanol\", source_nodes=graph.input_nodes)\n",
    "step2 = graph.add_step(\"evaporated\", source_nodes=[step1])\n",
    "terminal = graph.merge_to_terminal(source_nodes=[step2], terminal_step_description=\"treated at 1300 °C, for 6 h\")\n",
    "output1 = graph.add_output('Ba0.98La0.02SnO3')\n",
    "output2 = graph.add_output('0.98CO2')\n",
    "output3 = graph.add_output('0.005O2')"
   ]
  },
  {
   "cell_type": "code",
   "execution_count": null,
   "metadata": {},
   "outputs": [],
   "source": [
    "serialized_graph = graph.serialize()\n",
    "print(json.dumps(serialized_graph, indent=2))"
   ]
  },
  {
   "cell_type": "code",
   "execution_count": null,
   "metadata": {},
   "outputs": [],
   "source": [
    "pos = nx.spring_layout(graph)\n",
    "nx.draw(graph, pos, with_labels=True, node_color='lightblue', edge_color='gray',\n",
    "        node_size=1000, arrows=True)\n",
    "plt.show()"
   ]
  }
 ],
 "metadata": {
  "kernelspec": {
   "display_name": "actiongraph",
   "language": "python",
   "name": "python3"
  },
  "language_info": {
   "codemirror_mode": {
    "name": "ipython",
    "version": 3
   },
   "file_extension": ".py",
   "mimetype": "text/x-python",
   "name": "python",
   "nbconvert_exporter": "python",
   "pygments_lexer": "ipython3",
   "version": "3.13.2"
  }
 },
 "nbformat": 4,
 "nbformat_minor": 2
}
